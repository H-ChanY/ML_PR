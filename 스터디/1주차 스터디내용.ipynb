{
 "cells": [
  {
   "cell_type": "code",
   "execution_count": 1,
   "id": "executed-swing",
   "metadata": {},
   "outputs": [
    {
     "name": "stdout",
     "output_type": "stream",
     "text": [
      "2\n"
     ]
    }
   ],
   "source": [
    "import random\n",
    "a= random.randrange(1,4)\n",
    "print(a)"
   ]
  },
  {
   "cell_type": "code",
   "execution_count": 2,
   "id": "generous-praise",
   "metadata": {},
   "outputs": [],
   "source": [
    "상품=['Apple','Banana','Peach']\n",
    "가격=[300,200,100]"
   ]
  },
  {
   "cell_type": "code",
   "execution_count": 3,
   "id": "helpful-enhancement",
   "metadata": {},
   "outputs": [
    {
     "name": "stdout",
     "output_type": "stream",
     "text": [
      "[1, 'Peach', 100, 2, 'Peach', 100, 3, 'Banana', 200, 4, 'Peach', 100, 5, 'Peach', 100, 6, 'Banana', 200, 7, 'Apple', 300, 8, 'Banana', 200, 9, 'Apple', 300, 10, 'Apple', 300, 11, 'Banana', 200, 12, 'Apple', 300, 13, 'Apple', 300, 14, 'Peach', 100, 15, 'Banana', 200, 16, 'Banana', 200, 17, 'Apple', 300, 18, 'Apple', 300, 19, 'Apple', 300, 20, 'Banana', 200, 21, 'Banana', 200, 22, 'Peach', 100, 23, 'Apple', 300, 24, 'Apple', 300, 25, 'Peach', 100, 26, 'Peach', 100, 27, 'Peach', 100, 28, 'Peach', 100, 29, 'Peach', 100, 30, 'Peach', 100, 31, 'Banana', 200, 32, 'Banana', 200, 33, 'Apple', 300, 34, 'Peach', 100, 35, 'Banana', 200, 36, 'Peach', 100, 37, 'Banana', 200, 38, 'Apple', 300, 39, 'Banana', 200, 40, 'Banana', 200, 41, 'Apple', 300, 42, 'Peach', 100, 43, 'Apple', 300, 44, 'Banana', 200, 45, 'Apple', 300, 46, 'Peach', 100, 47, 'Banana', 200, 48, 'Apple', 300, 49, 'Peach', 100, 50, 'Banana', 200]\n"
     ]
    }
   ],
   "source": [
    "i=0\n",
    "sale_list=[]\n",
    "for v in range(50):\n",
    "    num=random.randint(0,2)\n",
    "    i+=1\n",
    "    sale_list.append(i)\n",
    "    sale_list.append(상품[num])\n",
    "    sale_list.append(가격[num])\n",
    "print(sale_list)"
   ]
  },
  {
   "cell_type": "code",
   "execution_count": 4,
   "id": "rocky-parks",
   "metadata": {},
   "outputs": [
    {
     "name": "stdout",
     "output_type": "stream",
     "text": [
      "1, Banana, 200\n",
      "2, Apple, 300\n",
      "3, Peach, 100\n",
      "4, Peach, 100\n",
      "5, Apple, 300\n",
      "6, Apple, 300\n",
      "7, Apple, 300\n",
      "8, Apple, 300\n",
      "9, Apple, 300\n",
      "10, Banana, 200\n",
      "11, Peach, 100\n",
      "12, Peach, 100\n",
      "13, Apple, 300\n",
      "14, Peach, 100\n",
      "15, Banana, 200\n",
      "16, Apple, 300\n",
      "17, Peach, 100\n",
      "18, Peach, 100\n",
      "19, Peach, 100\n",
      "20, Peach, 100\n",
      "21, Peach, 100\n",
      "22, Peach, 100\n",
      "23, Banana, 200\n",
      "24, Banana, 200\n",
      "25, Apple, 300\n",
      "26, Apple, 300\n",
      "27, Peach, 100\n",
      "28, Peach, 100\n",
      "29, Apple, 300\n",
      "30, Apple, 300\n",
      "31, Banana, 200\n",
      "32, Banana, 200\n",
      "33, Banana, 200\n",
      "34, Banana, 200\n",
      "35, Apple, 300\n",
      "36, Apple, 300\n",
      "37, Banana, 200\n",
      "38, Apple, 300\n",
      "39, Apple, 300\n",
      "40, Apple, 300\n",
      "41, Apple, 300\n",
      "42, Banana, 200\n",
      "43, Banana, 200\n",
      "44, Peach, 100\n",
      "45, Peach, 100\n",
      "46, Banana, 200\n",
      "47, Apple, 300\n",
      "48, Banana, 200\n",
      "49, Banana, 200\n",
      "50, Banana, 200\n",
      "['1, Banana, 200', '2, Apple, 300', '3, Peach, 100', '4, Peach, 100', '5, Apple, 300', '6, Apple, 300', '7, Apple, 300', '8, Apple, 300', '9, Apple, 300', '10, Banana, 200', '11, Peach, 100', '12, Peach, 100', '13, Apple, 300', '14, Peach, 100', '15, Banana, 200', '16, Apple, 300', '17, Peach, 100', '18, Peach, 100', '19, Peach, 100', '20, Peach, 100', '21, Peach, 100', '22, Peach, 100', '23, Banana, 200', '24, Banana, 200', '25, Apple, 300', '26, Apple, 300', '27, Peach, 100', '28, Peach, 100', '29, Apple, 300', '30, Apple, 300', '31, Banana, 200', '32, Banana, 200', '33, Banana, 200', '34, Banana, 200', '35, Apple, 300', '36, Apple, 300', '37, Banana, 200', '38, Apple, 300', '39, Apple, 300', '40, Apple, 300', '41, Apple, 300', '42, Banana, 200', '43, Banana, 200', '44, Peach, 100', '45, Peach, 100', '46, Banana, 200', '47, Apple, 300', '48, Banana, 200', '49, Banana, 200', '50, Banana, 200']\n",
      "<class 'list'>\n"
     ]
    }
   ],
   "source": [
    "f=open('data.csv','w')\n",
    "i=0\n",
    "sale_list=[]\n",
    "for v in range(50):\n",
    "    num=random.randint(0,2)\n",
    "    i+=1\n",
    "    sale_info=f'{i}, {상품[num]}, {가격[num]}'\n",
    "    sale_list.append(sale_info)\n",
    "    print(sale_list[v])\n",
    "    f.write(sale_info)\n",
    "print(sale_list)\n",
    "print(type(sale_list))\n",
    "f.close()"
   ]
  },
  {
   "cell_type": "code",
   "execution_count": 5,
   "id": "reasonable-forestry",
   "metadata": {},
   "outputs": [
    {
     "data": {
      "text/plain": [
       "[1, 2, 3, 4, 5, 6, 7, 8, 9, 10]"
      ]
     },
     "execution_count": 5,
     "metadata": {},
     "output_type": "execute_result"
    }
   ],
   "source": [
    "list_1=[1,2,3,4,5]\n",
    "list_2=[6,7,8,9,10]\n",
    "list_1+list_2"
   ]
  },
  {
   "cell_type": "code",
   "execution_count": 8,
   "id": "dirty-machine",
   "metadata": {},
   "outputs": [],
   "source": [
    "import numpy as np\n",
    "list_3=[11,12,13,14,15]\n",
    "array1=np.array((list_1,list_2,list_3))\n",
    "array2=np.array((list_2))"
   ]
  },
  {
   "cell_type": "code",
   "execution_count": 9,
   "id": "still-gregory",
   "metadata": {},
   "outputs": [
    {
     "data": {
      "text/plain": [
       "array([[ 1,  2,  3,  4,  5],\n",
       "       [ 6,  7,  8,  9, 10],\n",
       "       [11, 12, 13, 14, 15]])"
      ]
     },
     "execution_count": 9,
     "metadata": {},
     "output_type": "execute_result"
    }
   ],
   "source": [
    "array1"
   ]
  },
  {
   "cell_type": "code",
   "execution_count": 10,
   "id": "sapphire-copper",
   "metadata": {},
   "outputs": [
    {
     "data": {
      "text/plain": [
       "(3, 5)"
      ]
     },
     "execution_count": 10,
     "metadata": {},
     "output_type": "execute_result"
    }
   ],
   "source": [
    "array1.shape"
   ]
  },
  {
   "cell_type": "code",
   "execution_count": 11,
   "id": "irish-police",
   "metadata": {},
   "outputs": [],
   "source": [
    "import pandas as pd"
   ]
  },
  {
   "cell_type": "code",
   "execution_count": 12,
   "id": "overhead-accreditation",
   "metadata": {},
   "outputs": [
    {
     "data": {
      "text/html": [
       "<div>\n",
       "<style scoped>\n",
       "    .dataframe tbody tr th:only-of-type {\n",
       "        vertical-align: middle;\n",
       "    }\n",
       "\n",
       "    .dataframe tbody tr th {\n",
       "        vertical-align: top;\n",
       "    }\n",
       "\n",
       "    .dataframe thead th {\n",
       "        text-align: right;\n",
       "    }\n",
       "</style>\n",
       "<table border=\"1\" class=\"dataframe\">\n",
       "  <thead>\n",
       "    <tr style=\"text-align: right;\">\n",
       "      <th></th>\n",
       "      <th>name</th>\n",
       "      <th>math score</th>\n",
       "      <th>Eng score</th>\n",
       "    </tr>\n",
       "  </thead>\n",
       "  <tbody>\n",
       "    <tr>\n",
       "      <th>0</th>\n",
       "      <td>heo</td>\n",
       "      <td>90</td>\n",
       "      <td>86</td>\n",
       "    </tr>\n",
       "    <tr>\n",
       "      <th>1</th>\n",
       "      <td>lee</td>\n",
       "      <td>70</td>\n",
       "      <td>60</td>\n",
       "    </tr>\n",
       "    <tr>\n",
       "      <th>2</th>\n",
       "      <td>kim</td>\n",
       "      <td>90</td>\n",
       "      <td>76</td>\n",
       "    </tr>\n",
       "    <tr>\n",
       "      <th>3</th>\n",
       "      <td>park</td>\n",
       "      <td>88</td>\n",
       "      <td>85</td>\n",
       "    </tr>\n",
       "  </tbody>\n",
       "</table>\n",
       "</div>"
      ],
      "text/plain": [
       "   name  math score  Eng score\n",
       "0   heo          90         86\n",
       "1   lee          70         60\n",
       "2   kim          90         76\n",
       "3  park          88         85"
      ]
     },
     "execution_count": 12,
     "metadata": {},
     "output_type": "execute_result"
    }
   ],
   "source": [
    "score=[['heo',90,86],['lee',70,60],['kim',90,76],['park',88,85]]\n",
    "df=pd.DataFrame(score,columns=['name','math score','Eng score'])\n",
    "df"
   ]
  },
  {
   "cell_type": "code",
   "execution_count": 13,
   "id": "rental-capacity",
   "metadata": {},
   "outputs": [
    {
     "data": {
      "text/plain": [
       "pandas.core.frame.DataFrame"
      ]
     },
     "execution_count": 13,
     "metadata": {},
     "output_type": "execute_result"
    }
   ],
   "source": [
    "type(df)"
   ]
  },
  {
   "cell_type": "code",
   "execution_count": 14,
   "id": "alien-nitrogen",
   "metadata": {},
   "outputs": [
    {
     "data": {
      "text/plain": [
       "Index(['name', 'math score', 'Eng score'], dtype='object')"
      ]
     },
     "execution_count": 14,
     "metadata": {},
     "output_type": "execute_result"
    }
   ],
   "source": [
    "df.columns"
   ]
  },
  {
   "cell_type": "code",
   "execution_count": 15,
   "id": "early-automation",
   "metadata": {},
   "outputs": [
    {
     "data": {
      "text/plain": [
       "RangeIndex(start=0, stop=4, step=1)"
      ]
     },
     "execution_count": 15,
     "metadata": {},
     "output_type": "execute_result"
    }
   ],
   "source": [
    "df.index"
   ]
  },
  {
   "cell_type": "code",
   "execution_count": 17,
   "id": "departmental-portrait",
   "metadata": {},
   "outputs": [
    {
     "data": {
      "text/plain": [
       "name          object\n",
       "math score     int64\n",
       "Eng score      int64\n",
       "dtype: object"
      ]
     },
     "execution_count": 17,
     "metadata": {},
     "output_type": "execute_result"
    }
   ],
   "source": [
    "df.dtypes"
   ]
  },
  {
   "cell_type": "code",
   "execution_count": 18,
   "id": "crazy-grave",
   "metadata": {},
   "outputs": [],
   "source": [
    "score_list=score\n",
    "score_array=np.array(score)\n",
    "list_of_series=[\n",
    "    pd.Series(['heo',90,86]),\n",
    "    pd.Series(['lee',89,31]),\n",
    "    pd.Series(['kim',68,91]),\n",
    "    pd.Series(['park',88,75])\n",
    "]"
   ]
  },
  {
   "cell_type": "code",
   "execution_count": 19,
   "id": "cutting-summer",
   "metadata": {},
   "outputs": [
    {
     "name": "stdout",
     "output_type": "stream",
     "text": [
      "      0   1   2\n",
      "0   heo  90  86\n",
      "1   lee  70  60\n",
      "2   kim  90  76\n",
      "3  park  88  85\n",
      "      0   1   2\n",
      "0   heo  90  86\n",
      "1   lee  70  60\n",
      "2   kim  90  76\n",
      "3  park  88  85\n",
      "      0   1   2\n",
      "0   heo  90  86\n",
      "1   lee  89  31\n",
      "2   kim  68  91\n",
      "3  park  88  75\n"
     ]
    }
   ],
   "source": [
    "df1=pd.DataFrame(score_list)#list형\n",
    "df2=pd.DataFrame(score_array)#numpy형으로 할 수도 있고\n",
    "df3=pd.DataFrame(list_of_series)#Series가 여러개 모이면 core임\n",
    "\n",
    "print(df1)\n",
    "print(df2)\n",
    "print(df3)"
   ]
  },
  {
   "cell_type": "code",
   "execution_count": 23,
   "id": "agreed-spain",
   "metadata": {},
   "outputs": [
    {
     "data": {
      "text/plain": [
       "pandas.core.frame.DataFrame"
      ]
     },
     "execution_count": 23,
     "metadata": {},
     "output_type": "execute_result"
    }
   ],
   "source": [
    "type(df1)"
   ]
  },
  {
   "cell_type": "code",
   "execution_count": 24,
   "id": "intelligent-ordinance",
   "metadata": {},
   "outputs": [
    {
     "data": {
      "text/plain": [
       "pandas.core.frame.DataFrame"
      ]
     },
     "execution_count": 24,
     "metadata": {},
     "output_type": "execute_result"
    }
   ],
   "source": [
    "type(df2)"
   ]
  },
  {
   "cell_type": "code",
   "execution_count": 25,
   "id": "documentary-slovak",
   "metadata": {},
   "outputs": [
    {
     "data": {
      "text/plain": [
       "pandas.core.frame.DataFrame"
      ]
     },
     "execution_count": 25,
     "metadata": {},
     "output_type": "execute_result"
    }
   ],
   "source": [
    "type(df3)"
   ]
  },
  {
   "cell_type": "code",
   "execution_count": 26,
   "id": "tropical-temple",
   "metadata": {},
   "outputs": [],
   "source": [
    "names = ['heo','lee','kim','park']\n",
    "math_scores=[8,89,68,88]\n",
    "eng_scores=[86,31,91,75]\n",
    "\n",
    "dic1={\n",
    "    'names':names,\n",
    "    'english score':eng_scores,\n",
    "    'math score' :math_scores\n",
    "}\n",
    "\n",
    "dic2={\n",
    "    'names':np.array(names),\n",
    "    'english score':np.array(eng_scores),\n",
    "    'math score' :np.array(math_scores)\n",
    "}\n",
    "\n",
    "dic3={\n",
    "    'names':pd.Series(names),\n",
    "    'english socre':pd.Series(eng_scores),\n",
    "    'math score':pd.Series(math_scores),\n",
    "}"
   ]
  },
  {
   "cell_type": "code",
   "execution_count": 28,
   "id": "prescription-handle",
   "metadata": {
    "scrolled": true
   },
   "outputs": [
    {
     "name": "stdout",
     "output_type": "stream",
     "text": [
      "  names  english score  math score\n",
      "0   heo             86           8\n",
      "1   lee             31          89\n",
      "2   kim             91          68\n",
      "3  park             75          88\n",
      "  names  english score  math score\n",
      "0   heo             86           8\n",
      "1   lee             31          89\n",
      "2   kim             91          68\n",
      "3  park             75          88\n",
      "  names  english socre  math score\n",
      "0   heo             86           8\n",
      "1   lee             31          89\n",
      "2   kim             91          68\n",
      "3  park             75          88\n"
     ]
    }
   ],
   "source": [
    "df1=pd.DataFrame(dic1)\n",
    "df2=pd.DataFrame(dic2)\n",
    "df3=pd.DataFrame(dic3)\n",
    "print(df1)\n",
    "print(df2)\n",
    "print(df3)"
   ]
  },
  {
   "cell_type": "code",
   "execution_count": 40,
   "id": "formal-short",
   "metadata": {},
   "outputs": [
    {
     "data": {
      "text/html": [
       "<div>\n",
       "<style scoped>\n",
       "    .dataframe tbody tr th:only-of-type {\n",
       "        vertical-align: middle;\n",
       "    }\n",
       "\n",
       "    .dataframe tbody tr th {\n",
       "        vertical-align: top;\n",
       "    }\n",
       "\n",
       "    .dataframe thead th {\n",
       "        text-align: right;\n",
       "    }\n",
       "</style>\n",
       "<table border=\"1\" class=\"dataframe\">\n",
       "  <thead>\n",
       "    <tr style=\"text-align: right;\">\n",
       "      <th></th>\n",
       "      <th>출시일</th>\n",
       "      <th>디스플레이</th>\n",
       "      <th>메모리</th>\n",
       "      <th>출시 버전</th>\n",
       "      <th>Face ID</th>\n",
       "    </tr>\n",
       "  </thead>\n",
       "  <tbody>\n",
       "    <tr>\n",
       "      <th>iPhone 7</th>\n",
       "      <td>2016-09-16</td>\n",
       "      <td>4.7</td>\n",
       "      <td>2GB</td>\n",
       "      <td>iOS 10.0</td>\n",
       "      <td>No</td>\n",
       "    </tr>\n",
       "    <tr>\n",
       "      <th>iPhone 7 Plus</th>\n",
       "      <td>2016-09-16</td>\n",
       "      <td>5.5</td>\n",
       "      <td>3GB</td>\n",
       "      <td>iOS 10.0</td>\n",
       "      <td>No</td>\n",
       "    </tr>\n",
       "    <tr>\n",
       "      <th>iPhone 8</th>\n",
       "      <td>2017-09-22</td>\n",
       "      <td>4.7</td>\n",
       "      <td>2GB</td>\n",
       "      <td>iOS 11.0</td>\n",
       "      <td>No</td>\n",
       "    </tr>\n",
       "    <tr>\n",
       "      <th>iPhone 8 Plus</th>\n",
       "      <td>2017-09-22</td>\n",
       "      <td>5.5</td>\n",
       "      <td>3GB</td>\n",
       "      <td>iOS 11.0</td>\n",
       "      <td>No</td>\n",
       "    </tr>\n",
       "    <tr>\n",
       "      <th>iPhone X</th>\n",
       "      <td>2017-11-03</td>\n",
       "      <td>5.8</td>\n",
       "      <td>3GB</td>\n",
       "      <td>iOS 11.1</td>\n",
       "      <td>Yes</td>\n",
       "    </tr>\n",
       "    <tr>\n",
       "      <th>iPhone XS</th>\n",
       "      <td>2018-09-21</td>\n",
       "      <td>5.8</td>\n",
       "      <td>4GB</td>\n",
       "      <td>iOS 12.0</td>\n",
       "      <td>Yes</td>\n",
       "    </tr>\n",
       "    <tr>\n",
       "      <th>iPhone XS Max</th>\n",
       "      <td>2018-09-21</td>\n",
       "      <td>6.5</td>\n",
       "      <td>4GB</td>\n",
       "      <td>iOS 12.0</td>\n",
       "      <td>Yes</td>\n",
       "    </tr>\n",
       "  </tbody>\n",
       "</table>\n",
       "</div>"
      ],
      "text/plain": [
       "                      출시일  디스플레이  메모리     출시 버전 Face ID\n",
       "iPhone 7       2016-09-16    4.7  2GB  iOS 10.0      No\n",
       "iPhone 7 Plus  2016-09-16    5.5  3GB  iOS 10.0      No\n",
       "iPhone 8       2017-09-22    4.7  2GB  iOS 11.0      No\n",
       "iPhone 8 Plus  2017-09-22    5.5  3GB  iOS 11.0      No\n",
       "iPhone X       2017-11-03    5.8  3GB  iOS 11.1     Yes\n",
       "iPhone XS      2018-09-21    5.8  4GB  iOS 12.0     Yes\n",
       "iPhone XS Max  2018-09-21    6.5  4GB  iOS 12.0     Yes"
      ]
     },
     "execution_count": 40,
     "metadata": {},
     "output_type": "execute_result"
    }
   ],
   "source": [
    "iphone_df=pd.read_csv('C:/Users/Win10/머신러닝 스터디/iphone.csv',index_col=0)\n",
    "iphone_df"
   ]
  },
  {
   "cell_type": "code",
   "execution_count": null,
   "id": "express-emerald",
   "metadata": {},
   "outputs": [],
   "source": []
  }
 ],
 "metadata": {
  "kernelspec": {
   "display_name": "Python 3",
   "language": "python",
   "name": "python3"
  },
  "language_info": {
   "codemirror_mode": {
    "name": "ipython",
    "version": 3
   },
   "file_extension": ".py",
   "mimetype": "text/x-python",
   "name": "python",
   "nbconvert_exporter": "python",
   "pygments_lexer": "ipython3",
   "version": "3.8.8"
  }
 },
 "nbformat": 4,
 "nbformat_minor": 5
}
