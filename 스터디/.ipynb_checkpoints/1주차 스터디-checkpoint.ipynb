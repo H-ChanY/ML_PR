{
 "cells": [
  {
   "cell_type": "markdown",
   "id": "norwegian-decade",
   "metadata": {},
   "source": [
    "* 1부터 3까지 정수를 랜덤하게 나오게 함."
   ]
  },
  {
   "cell_type": "code",
   "execution_count": null,
   "id": "congressional-blake",
   "metadata": {},
   "outputs": [],
   "source": [
    "import random\n",
    "a=random.randrange(1,4)\n",
    "print(a)"
   ]
  },
  {
   "cell_type": "code",
   "execution_count": 5,
   "id": "palestinian-mainstream",
   "metadata": {},
   "outputs": [],
   "source": [
    "상품=['Apple','Banana','Peach']\n",
    "가격=[3000,2000,1000]"
   ]
  },
  {
   "cell_type": "code",
   "execution_count": 6,
   "id": "harmful-coral",
   "metadata": {},
   "outputs": [
    {
     "name": "stdout",
     "output_type": "stream",
     "text": [
      "[1, 'Banana', 2000, 2, 'Apple', 3000, 3, 'Banana', 2000, 4, 'Apple', 3000, 5, 'Apple', 3000, 6, 'Banana', 2000, 7, 'Banana', 2000, 8, 'Banana', 2000, 9, 'Banana', 2000, 10, 'Banana', 2000, 11, 'Apple', 3000, 12, 'Banana', 2000, 13, 'Banana', 2000, 14, 'Peach', 1000, 15, 'Peach', 1000, 16, 'Apple', 3000, 17, 'Peach', 1000, 18, 'Apple', 3000, 19, 'Peach', 1000, 20, 'Peach', 1000, 21, 'Banana', 2000, 22, 'Apple', 3000, 23, 'Peach', 1000, 24, 'Apple', 3000, 25, 'Apple', 3000, 26, 'Banana', 2000, 27, 'Apple', 3000, 28, 'Peach', 1000, 29, 'Banana', 2000, 30, 'Peach', 1000, 31, 'Peach', 1000, 32, 'Peach', 1000, 33, 'Peach', 1000, 34, 'Peach', 1000, 35, 'Banana', 2000, 36, 'Banana', 2000, 37, 'Banana', 2000, 38, 'Apple', 3000, 39, 'Peach', 1000, 40, 'Apple', 3000, 41, 'Banana', 2000, 42, 'Banana', 2000, 43, 'Peach', 1000, 44, 'Peach', 1000, 45, 'Peach', 1000, 46, 'Apple', 3000, 47, 'Banana', 2000, 48, 'Peach', 1000, 49, 'Apple', 3000, 50, 'Peach', 1000]\n"
     ]
    }
   ],
   "source": [
    "i=0\n",
    "sale_list=[]\n",
    "for v in range(50):\n",
    "    num=random.randint(0,2)\n",
    "    i+=1\n",
    "    sale_list.append(i)\n",
    "    sale_list.append(상품[num])\n",
    "    sale_list.append(가격[num])\n",
    "print(sale_list)"
   ]
  },
  {
   "cell_type": "code",
   "execution_count": 8,
   "id": "hollow-plate",
   "metadata": {},
   "outputs": [
    {
     "name": "stdout",
     "output_type": "stream",
     "text": [
      "1, Apple, 3000\n",
      "2, Peach, 1000\n",
      "3, Apple, 3000\n",
      "4, Banana, 2000\n",
      "5, Apple, 3000\n",
      "6, Apple, 3000\n",
      "7, Banana, 2000\n",
      "8, Peach, 1000\n",
      "9, Apple, 3000\n",
      "10, Banana, 2000\n",
      "11, Peach, 1000\n",
      "12, Peach, 1000\n",
      "13, Apple, 3000\n",
      "14, Peach, 1000\n",
      "15, Banana, 2000\n",
      "16, Banana, 2000\n",
      "17, Peach, 1000\n",
      "18, Banana, 2000\n",
      "19, Peach, 1000\n",
      "20, Peach, 1000\n",
      "21, Peach, 1000\n",
      "22, Peach, 1000\n",
      "23, Peach, 1000\n",
      "24, Peach, 1000\n",
      "25, Banana, 2000\n",
      "26, Peach, 1000\n",
      "27, Peach, 1000\n",
      "28, Banana, 2000\n",
      "29, Banana, 2000\n",
      "30, Apple, 3000\n",
      "31, Apple, 3000\n",
      "32, Banana, 2000\n",
      "33, Banana, 2000\n",
      "34, Banana, 2000\n",
      "35, Banana, 2000\n",
      "36, Apple, 3000\n",
      "37, Peach, 1000\n",
      "38, Banana, 2000\n",
      "39, Peach, 1000\n",
      "40, Peach, 1000\n",
      "41, Apple, 3000\n",
      "42, Banana, 2000\n",
      "43, Apple, 3000\n",
      "44, Banana, 2000\n",
      "45, Apple, 3000\n",
      "46, Peach, 1000\n",
      "47, Banana, 2000\n",
      "48, Peach, 1000\n",
      "49, Apple, 3000\n",
      "50, Apple, 3000\n",
      "['1, Apple, 3000', '2, Peach, 1000', '3, Apple, 3000', '4, Banana, 2000', '5, Apple, 3000', '6, Apple, 3000', '7, Banana, 2000', '8, Peach, 1000', '9, Apple, 3000', '10, Banana, 2000', '11, Peach, 1000', '12, Peach, 1000', '13, Apple, 3000', '14, Peach, 1000', '15, Banana, 2000', '16, Banana, 2000', '17, Peach, 1000', '18, Banana, 2000', '19, Peach, 1000', '20, Peach, 1000', '21, Peach, 1000', '22, Peach, 1000', '23, Peach, 1000', '24, Peach, 1000', '25, Banana, 2000', '26, Peach, 1000', '27, Peach, 1000', '28, Banana, 2000', '29, Banana, 2000', '30, Apple, 3000', '31, Apple, 3000', '32, Banana, 2000', '33, Banana, 2000', '34, Banana, 2000', '35, Banana, 2000', '36, Apple, 3000', '37, Peach, 1000', '38, Banana, 2000', '39, Peach, 1000', '40, Peach, 1000', '41, Apple, 3000', '42, Banana, 2000', '43, Apple, 3000', '44, Banana, 2000', '45, Apple, 3000', '46, Peach, 1000', '47, Banana, 2000', '48, Peach, 1000', '49, Apple, 3000', '50, Apple, 3000']\n",
      "<class 'list'>\n"
     ]
    }
   ],
   "source": [
    "f=open('data3.csv','w')\n",
    "i=0\n",
    "sale_list=[]\n",
    "for v in range(50):\n",
    "    num=random.randint(0,2)\n",
    "    i+=1\n",
    "    sale_info=f'{i}, {상품[num]}, {가격[num]}'\n",
    "    sale_list.append(sale_info)\n",
    "    print(sale_list[v])\n",
    "#    sale_list.append(i)\n",
    "#    sale_list.append(상품[num])\n",
    "#    sale_list.append(가격[num])\n",
    "#    f.write(str(sale_list)+\"\\n\")\n",
    "    f.write(sale_info)\n",
    "print(sale_list)\n",
    "print(type(sale_list))\n",
    "f.close()"
   ]
  },
  {
   "cell_type": "code",
   "execution_count": 9,
   "id": "computational-xerox",
   "metadata": {},
   "outputs": [
    {
     "data": {
      "text/plain": [
       "[1, 2, 3, 4, 5, 2, 4, 6, 8, 10]"
      ]
     },
     "execution_count": 9,
     "metadata": {},
     "output_type": "execute_result"
    }
   ],
   "source": [
    "list_1 = [1,2,3,4,5]\n",
    "list_2=[2,4,6,8,10]\n",
    "list_1+list_2"
   ]
  },
  {
   "cell_type": "code",
   "execution_count": 32,
   "id": "charitable-percentage",
   "metadata": {},
   "outputs": [],
   "source": [
    "import numpy as np\n",
    "array1=np.array((list_1,list_2))\n",
    "array2=np.array(list_2)"
   ]
  },
  {
   "cell_type": "code",
   "execution_count": 33,
   "id": "exciting-privacy",
   "metadata": {},
   "outputs": [
    {
     "data": {
      "text/plain": [
       "array([[ 1,  2,  3,  4,  5],\n",
       "       [ 2,  4,  6,  8, 10]])"
      ]
     },
     "execution_count": 33,
     "metadata": {},
     "output_type": "execute_result"
    }
   ],
   "source": [
    "array1"
   ]
  },
  {
   "cell_type": "code",
   "execution_count": 34,
   "id": "portuguese-there",
   "metadata": {},
   "outputs": [
    {
     "data": {
      "text/plain": [
       "[[1, 2, 3, 4], [5, 6, 7, 8]]"
      ]
     },
     "execution_count": 34,
     "metadata": {},
     "output_type": "execute_result"
    }
   ],
   "source": [
    "data=[[1,2,3,4],[5,6,7,8]]\n",
    "data"
   ]
  },
  {
   "cell_type": "code",
   "execution_count": 35,
   "id": "sensitive-breed",
   "metadata": {},
   "outputs": [
    {
     "data": {
      "text/plain": [
       "(2, 5)"
      ]
     },
     "execution_count": 35,
     "metadata": {},
     "output_type": "execute_result"
    }
   ],
   "source": [
    "array1.shape"
   ]
  },
  {
   "cell_type": "code",
   "execution_count": 36,
   "id": "cardiovascular-invalid",
   "metadata": {},
   "outputs": [
    {
     "name": "stdout",
     "output_type": "stream",
     "text": [
      "[0.65905589 0.61149719 0.13782354 0.44066237 0.77995075 0.37492652]\n",
      "<class 'numpy.ndarray'>\n"
     ]
    }
   ],
   "source": [
    "array3=numpy.random.random(6)\n",
    "print(array3)\n",
    "print(type(array3))"
   ]
  },
  {
   "cell_type": "code",
   "execution_count": 37,
   "id": "democratic-shuttle",
   "metadata": {},
   "outputs": [],
   "source": [
    "import pandas as pd"
   ]
  },
  {
   "cell_type": "code",
   "execution_count": 38,
   "id": "initial-information",
   "metadata": {},
   "outputs": [
    {
     "data": {
      "text/html": [
       "<div>\n",
       "<style scoped>\n",
       "    .dataframe tbody tr th:only-of-type {\n",
       "        vertical-align: middle;\n",
       "    }\n",
       "\n",
       "    .dataframe tbody tr th {\n",
       "        vertical-align: top;\n",
       "    }\n",
       "\n",
       "    .dataframe thead th {\n",
       "        text-align: right;\n",
       "    }\n",
       "</style>\n",
       "<table border=\"1\" class=\"dataframe\">\n",
       "  <thead>\n",
       "    <tr style=\"text-align: right;\">\n",
       "      <th></th>\n",
       "      <th>name</th>\n",
       "      <th>math score</th>\n",
       "      <th>Eng score</th>\n",
       "    </tr>\n",
       "  </thead>\n",
       "  <tbody>\n",
       "    <tr>\n",
       "      <th>0</th>\n",
       "      <td>heo</td>\n",
       "      <td>90</td>\n",
       "      <td>86</td>\n",
       "    </tr>\n",
       "    <tr>\n",
       "      <th>1</th>\n",
       "      <td>lee</td>\n",
       "      <td>89</td>\n",
       "      <td>31</td>\n",
       "    </tr>\n",
       "    <tr>\n",
       "      <th>2</th>\n",
       "      <td>kim</td>\n",
       "      <td>68</td>\n",
       "      <td>91</td>\n",
       "    </tr>\n",
       "    <tr>\n",
       "      <th>3</th>\n",
       "      <td>park</td>\n",
       "      <td>88</td>\n",
       "      <td>75</td>\n",
       "    </tr>\n",
       "  </tbody>\n",
       "</table>\n",
       "</div>"
      ],
      "text/plain": [
       "   name  math score  Eng score\n",
       "0   heo          90         86\n",
       "1   lee          89         31\n",
       "2   kim          68         91\n",
       "3  park          88         75"
      ]
     },
     "execution_count": 38,
     "metadata": {},
     "output_type": "execute_result"
    }
   ],
   "source": [
    "score = [['heo',90,86],['lee',89,31],['kim',68,91],['park',88,75]]\n",
    "df = pd.DataFrame(score, columns=['name','math score','Eng score'])\n",
    "df"
   ]
  },
  {
   "cell_type": "code",
   "execution_count": 39,
   "id": "inside-drinking",
   "metadata": {},
   "outputs": [
    {
     "data": {
      "text/plain": [
       "pandas.core.frame.DataFrame"
      ]
     },
     "execution_count": 39,
     "metadata": {},
     "output_type": "execute_result"
    }
   ],
   "source": [
    "type(df)"
   ]
  },
  {
   "cell_type": "code",
   "execution_count": 40,
   "id": "norwegian-venue",
   "metadata": {},
   "outputs": [
    {
     "data": {
      "text/plain": [
       "Index(['name', 'math score', 'Eng score'], dtype='object')"
      ]
     },
     "execution_count": 40,
     "metadata": {},
     "output_type": "execute_result"
    }
   ],
   "source": [
    "df.columns"
   ]
  },
  {
   "cell_type": "code",
   "execution_count": 41,
   "id": "abstract-judge",
   "metadata": {},
   "outputs": [
    {
     "data": {
      "text/plain": [
       "RangeIndex(start=0, stop=4, step=1)"
      ]
     },
     "execution_count": 41,
     "metadata": {},
     "output_type": "execute_result"
    }
   ],
   "source": [
    "df.index"
   ]
  },
  {
   "cell_type": "code",
   "execution_count": 42,
   "id": "deluxe-dryer",
   "metadata": {},
   "outputs": [
    {
     "data": {
      "text/plain": [
       "name          object\n",
       "math score     int64\n",
       "Eng score      int64\n",
       "dtype: object"
      ]
     },
     "execution_count": 42,
     "metadata": {},
     "output_type": "execute_result"
    }
   ],
   "source": [
    "df.dtypes"
   ]
  },
  {
   "cell_type": "code",
   "execution_count": 44,
   "id": "obvious-champion",
   "metadata": {},
   "outputs": [],
   "source": [
    "score_list=score\n",
    "score_array=np.array(score)\n",
    "score_array=np.array(score)\n",
    "list_of_series=[\n",
    "    pd.Series(['heo',90,86]),\n",
    "    pd.Series(['lee',89,31]),\n",
    "    pd.Series(['kim',68,91]),\n",
    "    pd.Series(['park',88,75])\n",
    "]\n"
   ]
  },
  {
   "cell_type": "code",
   "execution_count": 46,
   "id": "quantitative-hopkins",
   "metadata": {},
   "outputs": [
    {
     "name": "stdout",
     "output_type": "stream",
     "text": [
      "      0   1   2\n",
      "0   heo  90  86\n",
      "1   lee  89  31\n",
      "2   kim  68  91\n",
      "3  park  88  75\n",
      "      0   1   2\n",
      "0   heo  90  86\n",
      "1   lee  89  31\n",
      "2   kim  68  91\n",
      "3  park  88  75\n",
      "      0   1   2\n",
      "0   heo  90  86\n",
      "1   lee  89  31\n",
      "2   kim  68  91\n",
      "3  park  88  75\n"
     ]
    }
   ],
   "source": [
    "df1=pd.DataFrame(score_list)#list형\n",
    "df2=pd.DataFrame(score_array)#numpy형으로 할 수도 있고\n",
    "df3=pd.DataFrame(list_of_series)#Series가 여러개 모이면 core임\n",
    "\n",
    "print(df1)\n",
    "print(df2)\n",
    "print(df3)"
   ]
  },
  {
   "cell_type": "code",
   "execution_count": 51,
   "id": "funny-paraguay",
   "metadata": {},
   "outputs": [],
   "source": [
    "names = ['heo','lee','kim','park']\n",
    "math_scores=[8,89,68,88]\n",
    "eng_scores=[86,31,91,75]\n",
    "dic1={\n",
    "    'names':names,\n",
    "    'english score':eng_scores,\n",
    "    'math score' :math_scores\n",
    "}\n",
    "dic2={\n",
    "    'names':np.array(names),\n",
    "    'english score':np.array(eng_scores),\n",
    "    'math score' :np.array(math_scores)\n",
    "}\n",
    "\n",
    "dic3={\n",
    "    'names':pd.Series(names),\n",
    "    'english socre':pd.Series(eng_scores),\n",
    "    'math score':pd.Series(math_scores),\n",
    "\n",
    "}\n"
   ]
  },
  {
   "cell_type": "code",
   "execution_count": 52,
   "id": "destroyed-carrier",
   "metadata": {},
   "outputs": [
    {
     "name": "stdout",
     "output_type": "stream",
     "text": [
      "  names  english score  math score\n",
      "0   heo             86           8\n",
      "1   lee             31          89\n",
      "2   kim             91          68\n",
      "3  park             75          88\n",
      "  names  english score  math score\n",
      "0   heo             86           8\n",
      "1   lee             31          89\n",
      "2   kim             91          68\n",
      "3  park             75          88\n",
      "  names  english socre  math score\n",
      "0   heo             86           8\n",
      "1   lee             31          89\n",
      "2   kim             91          68\n",
      "3  park             75          88\n"
     ]
    }
   ],
   "source": [
    "df1=pd.DataFrame(dic1)\n",
    "df2=pd.DataFrame(dic2)\n",
    "df3=pd.DataFrame(dic3)\n",
    "print(df1)\n",
    "print(df2)\n",
    "print(df3)"
   ]
  },
  {
   "cell_type": "code",
   "execution_count": 53,
   "id": "burning-invasion",
   "metadata": {},
   "outputs": [
    {
     "data": {
      "text/html": [
       "<div>\n",
       "<style scoped>\n",
       "    .dataframe tbody tr th:only-of-type {\n",
       "        vertical-align: middle;\n",
       "    }\n",
       "\n",
       "    .dataframe tbody tr th {\n",
       "        vertical-align: top;\n",
       "    }\n",
       "\n",
       "    .dataframe thead th {\n",
       "        text-align: right;\n",
       "    }\n",
       "</style>\n",
       "<table border=\"1\" class=\"dataframe\">\n",
       "  <thead>\n",
       "    <tr style=\"text-align: right;\">\n",
       "      <th></th>\n",
       "      <th>출시일</th>\n",
       "      <th>디스플레이</th>\n",
       "      <th>메모리</th>\n",
       "      <th>출시 버전</th>\n",
       "      <th>Face ID</th>\n",
       "    </tr>\n",
       "  </thead>\n",
       "  <tbody>\n",
       "    <tr>\n",
       "      <th>iPhone 7</th>\n",
       "      <td>2016-09-16</td>\n",
       "      <td>4.7</td>\n",
       "      <td>2GB</td>\n",
       "      <td>iOS 10.0</td>\n",
       "      <td>No</td>\n",
       "    </tr>\n",
       "    <tr>\n",
       "      <th>iPhone 7 Plus</th>\n",
       "      <td>2016-09-16</td>\n",
       "      <td>5.5</td>\n",
       "      <td>3GB</td>\n",
       "      <td>iOS 10.0</td>\n",
       "      <td>No</td>\n",
       "    </tr>\n",
       "    <tr>\n",
       "      <th>iPhone 8</th>\n",
       "      <td>2017-09-22</td>\n",
       "      <td>4.7</td>\n",
       "      <td>2GB</td>\n",
       "      <td>iOS 11.0</td>\n",
       "      <td>No</td>\n",
       "    </tr>\n",
       "    <tr>\n",
       "      <th>iPhone 8 Plus</th>\n",
       "      <td>2017-09-22</td>\n",
       "      <td>5.5</td>\n",
       "      <td>3GB</td>\n",
       "      <td>iOS 11.0</td>\n",
       "      <td>No</td>\n",
       "    </tr>\n",
       "    <tr>\n",
       "      <th>iPhone X</th>\n",
       "      <td>2017-11-03</td>\n",
       "      <td>5.8</td>\n",
       "      <td>3GB</td>\n",
       "      <td>iOS 11.1</td>\n",
       "      <td>Yes</td>\n",
       "    </tr>\n",
       "    <tr>\n",
       "      <th>iPhone XS</th>\n",
       "      <td>2018-09-21</td>\n",
       "      <td>5.8</td>\n",
       "      <td>4GB</td>\n",
       "      <td>iOS 12.0</td>\n",
       "      <td>Yes</td>\n",
       "    </tr>\n",
       "    <tr>\n",
       "      <th>iPhone XS Max</th>\n",
       "      <td>2018-09-21</td>\n",
       "      <td>6.5</td>\n",
       "      <td>4GB</td>\n",
       "      <td>iOS 12.0</td>\n",
       "      <td>Yes</td>\n",
       "    </tr>\n",
       "  </tbody>\n",
       "</table>\n",
       "</div>"
      ],
      "text/plain": [
       "                      출시일  디스플레이  메모리     출시 버전 Face ID\n",
       "iPhone 7       2016-09-16    4.7  2GB  iOS 10.0      No\n",
       "iPhone 7 Plus  2016-09-16    5.5  3GB  iOS 10.0      No\n",
       "iPhone 8       2017-09-22    4.7  2GB  iOS 11.0      No\n",
       "iPhone 8 Plus  2017-09-22    5.5  3GB  iOS 11.0      No\n",
       "iPhone X       2017-11-03    5.8  3GB  iOS 11.1     Yes\n",
       "iPhone XS      2018-09-21    5.8  4GB  iOS 12.0     Yes\n",
       "iPhone XS Max  2018-09-21    6.5  4GB  iOS 12.0     Yes"
      ]
     },
     "execution_count": 53,
     "metadata": {},
     "output_type": "execute_result"
    }
   ],
   "source": [
    "iphone_df=pd.read_csv('iphone.csv',index_col=0)\n",
    "iphone_df"
   ]
  },
  {
   "cell_type": "code",
   "execution_count": null,
   "id": "operational-workplace",
   "metadata": {},
   "outputs": [],
   "source": []
  }
 ],
 "metadata": {
  "kernelspec": {
   "display_name": "Python 3",
   "language": "python",
   "name": "python3"
  },
  "language_info": {
   "codemirror_mode": {
    "name": "ipython",
    "version": 3
   },
   "file_extension": ".py",
   "mimetype": "text/x-python",
   "name": "python",
   "nbconvert_exporter": "python",
   "pygments_lexer": "ipython3",
   "version": "3.8.8"
  }
 },
 "nbformat": 4,
 "nbformat_minor": 5
}
