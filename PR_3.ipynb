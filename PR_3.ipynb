{
 "cells": [
  {
   "cell_type": "markdown",
   "id": "exceptional-cornell",
   "metadata": {},
   "source": [
    "### Numpyarray\n",
    "numpy는 행렬 계산할 때 편함"
   ]
  },
  {
   "cell_type": "code",
   "execution_count": 2,
   "id": "lined-columbia",
   "metadata": {},
   "outputs": [],
   "source": [
    "import numpy"
   ]
  },
  {
   "cell_type": "code",
   "execution_count": 3,
   "id": "chicken-foundation",
   "metadata": {},
   "outputs": [],
   "source": [
    "list_1 = [1,2,3,4,5]"
   ]
  },
  {
   "cell_type": "code",
   "execution_count": 4,
   "id": "awful-librarian",
   "metadata": {},
   "outputs": [],
   "source": [
    "list_2=[2,4,6,8,10]"
   ]
  },
  {
   "cell_type": "code",
   "execution_count": 5,
   "id": "passing-addiction",
   "metadata": {},
   "outputs": [
    {
     "data": {
      "text/plain": [
       "[1, 2, 3, 4, 5, 2, 4, 6, 8, 10]"
      ]
     },
     "execution_count": 5,
     "metadata": {},
     "output_type": "execute_result"
    }
   ],
   "source": [
    "list_1+list_2"
   ]
  },
  {
   "cell_type": "code",
   "execution_count": 7,
   "id": "awful-reverse",
   "metadata": {},
   "outputs": [],
   "source": [
    "array1=numpy.array((list_1,list_2))"
   ]
  },
  {
   "cell_type": "code",
   "execution_count": 15,
   "id": "quantitative-sentence",
   "metadata": {},
   "outputs": [],
   "source": [
    "array2=numpy.array(list_2)"
   ]
  },
  {
   "cell_type": "code",
   "execution_count": 10,
   "id": "greenhouse-chapel",
   "metadata": {},
   "outputs": [
    {
     "data": {
      "text/plain": [
       "array([[ 1,  2,  3,  4,  5],\n",
       "       [ 2,  4,  6,  8, 10]])"
      ]
     },
     "execution_count": 10,
     "metadata": {},
     "output_type": "execute_result"
    }
   ],
   "source": [
    "array1"
   ]
  },
  {
   "cell_type": "code",
   "execution_count": 13,
   "id": "existing-links",
   "metadata": {},
   "outputs": [
    {
     "data": {
      "text/plain": [
       "[3, 6, 9, 12, 15]"
      ]
     },
     "execution_count": 13,
     "metadata": {},
     "output_type": "execute_result"
    }
   ],
   "source": [
    "[list_1[i]+list_2[i] for i in range (5)]"
   ]
  },
  {
   "cell_type": "code",
   "execution_count": 22,
   "id": "cooperative-accessory",
   "metadata": {},
   "outputs": [
    {
     "data": {
      "text/plain": [
       "array([ 2,  4,  6,  8, 10])"
      ]
     },
     "execution_count": 22,
     "metadata": {},
     "output_type": "execute_result"
    }
   ],
   "source": [
    "array1.shape"
   ]
  },
  {
   "cell_type": "code",
   "execution_count": 20,
   "id": "front-training",
   "metadata": {},
   "outputs": [
    {
     "data": {
      "text/plain": [
       "(5,)"
      ]
     },
     "execution_count": 20,
     "metadata": {},
     "output_type": "execute_result"
    }
   ],
   "source": [
    "array1.size"
   ]
  },
  {
   "cell_type": "code",
   "execution_count": 15,
   "id": "adequate-valuation",
   "metadata": {},
   "outputs": [],
   "source": [
    "array3=numpy.random.random(6)"
   ]
  },
  {
   "cell_type": "code",
   "execution_count": 16,
   "id": "smoking-details",
   "metadata": {},
   "outputs": [
    {
     "data": {
      "text/plain": [
       "array([0.73590775, 0.33272623, 0.69961325, 0.26432874, 0.69456044,\n",
       "       0.84269469])"
      ]
     },
     "execution_count": 16,
     "metadata": {},
     "output_type": "execute_result"
    }
   ],
   "source": [
    "array3"
   ]
  },
  {
   "cell_type": "code",
   "execution_count": 17,
   "id": "broke-packing",
   "metadata": {},
   "outputs": [],
   "source": [
    "import numpy as np"
   ]
  },
  {
   "cell_type": "code",
   "execution_count": 18,
   "id": "incorporate-enforcement",
   "metadata": {},
   "outputs": [
    {
     "data": {
      "text/plain": [
       "array([0, 0, 0, 0, 0, 0])"
      ]
     },
     "execution_count": 18,
     "metadata": {},
     "output_type": "execute_result"
    }
   ],
   "source": [
    "array1=np.full(6,0)\n",
    "array1"
   ]
  },
  {
   "cell_type": "code",
   "execution_count": 19,
   "id": "increased-learning",
   "metadata": {},
   "outputs": [],
   "source": [
    "array2=np.zeros(6)"
   ]
  },
  {
   "cell_type": "code",
   "execution_count": 20,
   "id": "possible-sharp",
   "metadata": {},
   "outputs": [
    {
     "data": {
      "text/plain": [
       "array([0., 0., 0., 0., 0., 0.])"
      ]
     },
     "execution_count": 20,
     "metadata": {},
     "output_type": "execute_result"
    }
   ],
   "source": [
    "array2"
   ]
  },
  {
   "cell_type": "markdown",
   "id": "clean-colleague",
   "metadata": {},
   "source": [
    "### numpy2"
   ]
  },
  {
   "cell_type": "code",
   "execution_count": 21,
   "id": "cordless-exception",
   "metadata": {},
   "outputs": [],
   "source": [
    "array1=np.array([2,3,4,5,6,7,8,9,10])"
   ]
  },
  {
   "cell_type": "code",
   "execution_count": 22,
   "id": "discrete-financing",
   "metadata": {},
   "outputs": [
    {
     "data": {
      "text/plain": [
       "10"
      ]
     },
     "execution_count": 22,
     "metadata": {},
     "output_type": "execute_result"
    }
   ],
   "source": [
    "array1[-1]"
   ]
  },
  {
   "cell_type": "code",
   "execution_count": 23,
   "id": "meaning-office",
   "metadata": {},
   "outputs": [
    {
     "data": {
      "text/plain": [
       "array([10])"
      ]
     },
     "execution_count": 23,
     "metadata": {},
     "output_type": "execute_result"
    }
   ],
   "source": [
    "array1[-1:]"
   ]
  },
  {
   "cell_type": "code",
   "execution_count": 24,
   "id": "dominant-despite",
   "metadata": {},
   "outputs": [],
   "source": [
    "list_4=[]"
   ]
  },
  {
   "cell_type": "code",
   "execution_count": 25,
   "id": "suspended-pricing",
   "metadata": {},
   "outputs": [
    {
     "data": {
      "text/plain": [
       "[]"
      ]
     },
     "execution_count": 25,
     "metadata": {},
     "output_type": "execute_result"
    }
   ],
   "source": [
    "list_4[-1:]"
   ]
  },
  {
   "cell_type": "code",
   "execution_count": 26,
   "id": "composed-optimum",
   "metadata": {},
   "outputs": [
    {
     "data": {
      "text/plain": [
       "array([ 4,  6,  8, 10])"
      ]
     },
     "execution_count": 26,
     "metadata": {},
     "output_type": "execute_result"
    }
   ],
   "source": [
    "array1[2::2]"
   ]
  },
  {
   "cell_type": "code",
   "execution_count": 27,
   "id": "organizational-right",
   "metadata": {},
   "outputs": [
    {
     "data": {
      "text/plain": [
       "array([ 4,  6,  8, 10, 12, 14, 16, 18, 20])"
      ]
     },
     "execution_count": 27,
     "metadata": {},
     "output_type": "execute_result"
    }
   ],
   "source": [
    "array1*2"
   ]
  },
  {
   "cell_type": "code",
   "execution_count": 29,
   "id": "optimum-relevance",
   "metadata": {},
   "outputs": [],
   "source": [
    "array1=np.array([1000,2000,3000,5000])\n",
    "#환율"
   ]
  },
  {
   "cell_type": "markdown",
   "id": "bulgarian-declaration",
   "metadata": {},
   "source": [
    "booleans 가능"
   ]
  },
  {
   "cell_type": "code",
   "execution_count": 31,
   "id": "broke-psychiatry",
   "metadata": {},
   "outputs": [],
   "source": [
    "import pandas as pd"
   ]
  },
  {
   "cell_type": "code",
   "execution_count": 32,
   "id": "spatial-share",
   "metadata": {},
   "outputs": [],
   "source": [
    "score = [['song',50,86],['choi',89,31],['hwang',68,91],['Lee',88,75]]"
   ]
  },
  {
   "cell_type": "code",
   "execution_count": 39,
   "id": "banned-distance",
   "metadata": {},
   "outputs": [
    {
     "data": {
      "text/html": [
       "<div>\n",
       "<style scoped>\n",
       "    .dataframe tbody tr th:only-of-type {\n",
       "        vertical-align: middle;\n",
       "    }\n",
       "\n",
       "    .dataframe tbody tr th {\n",
       "        vertical-align: top;\n",
       "    }\n",
       "\n",
       "    .dataframe thead th {\n",
       "        text-align: right;\n",
       "    }\n",
       "</style>\n",
       "<table border=\"1\" class=\"dataframe\">\n",
       "  <thead>\n",
       "    <tr style=\"text-align: right;\">\n",
       "      <th></th>\n",
       "      <th>name</th>\n",
       "      <th>math score</th>\n",
       "      <th>Eng score</th>\n",
       "    </tr>\n",
       "  </thead>\n",
       "  <tbody>\n",
       "    <tr>\n",
       "      <th>a</th>\n",
       "      <td>song</td>\n",
       "      <td>50</td>\n",
       "      <td>86</td>\n",
       "    </tr>\n",
       "    <tr>\n",
       "      <th>b</th>\n",
       "      <td>choi</td>\n",
       "      <td>89</td>\n",
       "      <td>31</td>\n",
       "    </tr>\n",
       "    <tr>\n",
       "      <th>c</th>\n",
       "      <td>hwang</td>\n",
       "      <td>68</td>\n",
       "      <td>91</td>\n",
       "    </tr>\n",
       "    <tr>\n",
       "      <th>d</th>\n",
       "      <td>Lee</td>\n",
       "      <td>88</td>\n",
       "      <td>75</td>\n",
       "    </tr>\n",
       "  </tbody>\n",
       "</table>\n",
       "</div>"
      ],
      "text/plain": [
       "    name  math score  Eng score\n",
       "a   song          50         86\n",
       "b   choi          89         31\n",
       "c  hwang          68         91\n",
       "d    Lee          88         75"
      ]
     },
     "execution_count": 39,
     "metadata": {},
     "output_type": "execute_result"
    }
   ],
   "source": [
    "df = pd.DataFrame(score, columns=['name','math score','Eng score'],index=['a','b','c','d'])\n",
    "df"
   ]
  },
  {
   "cell_type": "code",
   "execution_count": 40,
   "id": "atmospheric-triumph",
   "metadata": {},
   "outputs": [
    {
     "data": {
      "text/plain": [
       "pandas.core.frame.DataFrame"
      ]
     },
     "execution_count": 40,
     "metadata": {},
     "output_type": "execute_result"
    }
   ],
   "source": [
    "type(df)"
   ]
  },
  {
   "cell_type": "code",
   "execution_count": 41,
   "id": "informed-sapphire",
   "metadata": {},
   "outputs": [
    {
     "data": {
      "text/plain": [
       "Index(['name', 'math score', 'Eng score'], dtype='object')"
      ]
     },
     "execution_count": 41,
     "metadata": {},
     "output_type": "execute_result"
    }
   ],
   "source": [
    "df.columns"
   ]
  },
  {
   "cell_type": "code",
   "execution_count": 42,
   "id": "negative-bankruptcy",
   "metadata": {},
   "outputs": [
    {
     "data": {
      "text/plain": [
       "Index(['a', 'b', 'c', 'd'], dtype='object')"
      ]
     },
     "execution_count": 42,
     "metadata": {},
     "output_type": "execute_result"
    }
   ],
   "source": [
    "df.index"
   ]
  },
  {
   "cell_type": "code",
   "execution_count": 43,
   "id": "indie-enhancement",
   "metadata": {},
   "outputs": [
    {
     "data": {
      "text/plain": [
       "name          object\n",
       "math score     int64\n",
       "Eng score      int64\n",
       "dtype: object"
      ]
     },
     "execution_count": 43,
     "metadata": {},
     "output_type": "execute_result"
    }
   ],
   "source": [
    "df.dtypes"
   ]
  },
  {
   "cell_type": "code",
   "execution_count": 44,
   "id": "existing-bargain",
   "metadata": {},
   "outputs": [],
   "source": [
    "import numpy as np\n",
    "import pandas as pd"
   ]
  },
  {
   "cell_type": "code",
   "execution_count": 47,
   "id": "stretch-walker",
   "metadata": {},
   "outputs": [],
   "source": [
    "#score\n",
    "score_list=score\n",
    "score_array=np.array(score)\n",
    "list_of_series=[\n",
    "    pd.Series(['song',50,86]),\n",
    "    pd.Series(['choi',89,31]),\n",
    "    pd.Series(['hwang',68,91]),\n",
    "    pd.Series(['Lee',88,75])\n",
    "]"
   ]
  },
  {
   "cell_type": "code",
   "execution_count": 48,
   "id": "convenient-elizabeth",
   "metadata": {},
   "outputs": [
    {
     "name": "stdout",
     "output_type": "stream",
     "text": [
      "       0   1   2\n",
      "0   song  50  86\n",
      "1   choi  89  31\n",
      "2  hwang  68  91\n",
      "3    Lee  88  75\n",
      "       0   1   2\n",
      "0   song  50  86\n",
      "1   choi  89  31\n",
      "2  hwang  68  91\n",
      "3    Lee  88  75\n",
      "       0   1   2\n",
      "0   song  50  86\n",
      "1   choi  89  31\n",
      "2  hwang  68  91\n",
      "3    Lee  88  75\n"
     ]
    }
   ],
   "source": [
    "df1=pd.DataFrame(score_list)#list형\n",
    "df2=pd.DataFrame(score_array)#numpy형으로 할 수도 있고\n",
    "df3=pd.DataFrame(list_of_series)#Series가 여러개 모이면 core임\n",
    "\n",
    "print(df1)\n",
    "print(df2)\n",
    "print(df3)"
   ]
  },
  {
   "cell_type": "code",
   "execution_count": 51,
   "id": "vocal-journalist",
   "metadata": {},
   "outputs": [],
   "source": [
    "names = ['song','choi','hwang','Lee']\n",
    "math_scores=[50,89,68,88]\n",
    "eng_scores=[86,31,91,75]"
   ]
  },
  {
   "cell_type": "code",
   "execution_count": 53,
   "id": "split-utility",
   "metadata": {},
   "outputs": [],
   "source": [
    "dic1={\n",
    "    'names':names,\n",
    "    'english score':eng_scores,\n",
    "    'math score' :math_scores\n",
    "}\n",
    "\n",
    "dic2={\n",
    "    'names':np.array(names),\n",
    "    'english score':np.array(eng_scores),\n",
    "    'math score' :np.array(math_scores)\n",
    "}\n",
    "\n",
    "dic3={\n",
    "    'names':pd.Series(names),\n",
    "    'english socre':pd.Series(eng_scores),\n",
    "    'math score':pd.Series(math_scores),\n",
    "\n",
    "}"
   ]
  },
  {
   "cell_type": "code",
   "execution_count": 55,
   "id": "expected-penalty",
   "metadata": {},
   "outputs": [],
   "source": [
    "df1=pd.DataFrame(dic1)\n",
    "df2=pd.DataFrame(dic2)\n",
    "df3=pd.DataFrame(dic3)"
   ]
  },
  {
   "cell_type": "code",
   "execution_count": 57,
   "id": "exotic-enforcement",
   "metadata": {},
   "outputs": [
    {
     "name": "stdout",
     "output_type": "stream",
     "text": [
      "   names  english score  math score\n",
      "0   song             86          50\n",
      "1   choi             31          89\n",
      "2  hwang             91          68\n",
      "3    Lee             75          88\n",
      "   names  english score  math score\n",
      "0   song             86          50\n",
      "1   choi             31          89\n",
      "2  hwang             91          68\n",
      "3    Lee             75          88\n",
      "   names  english socre  math score\n",
      "0   song             86          50\n",
      "1   choi             31          89\n",
      "2  hwang             91          68\n",
      "3    Lee             75          88\n"
     ]
    }
   ],
   "source": [
    "print(df1)\n",
    "print(df2)\n",
    "print(df3)"
   ]
  },
  {
   "cell_type": "code",
   "execution_count": 58,
   "id": "secondary-violation",
   "metadata": {},
   "outputs": [
    {
     "data": {
      "text/plain": [
       "[['song', 50, 86], ['choi', 89, 31], ['hwang', 68, 91], ['Lee', 88, 75]]"
      ]
     },
     "execution_count": 58,
     "metadata": {},
     "output_type": "execute_result"
    }
   ],
   "source": [
    "score_list"
   ]
  },
  {
   "cell_type": "code",
   "execution_count": 65,
   "id": "adverse-component",
   "metadata": {},
   "outputs": [
    {
     "data": {
      "text/html": [
       "<div>\n",
       "<style scoped>\n",
       "    .dataframe tbody tr th:only-of-type {\n",
       "        vertical-align: middle;\n",
       "    }\n",
       "\n",
       "    .dataframe tbody tr th {\n",
       "        vertical-align: top;\n",
       "    }\n",
       "\n",
       "    .dataframe thead th {\n",
       "        text-align: right;\n",
       "    }\n",
       "</style>\n",
       "<table border=\"1\" class=\"dataframe\">\n",
       "  <thead>\n",
       "    <tr style=\"text-align: right;\">\n",
       "      <th></th>\n",
       "      <th>name</th>\n",
       "      <th>eng_score</th>\n",
       "      <th>math_score</th>\n",
       "    </tr>\n",
       "  </thead>\n",
       "  <tbody>\n",
       "    <tr>\n",
       "      <th>0</th>\n",
       "      <td>song</td>\n",
       "      <td>50</td>\n",
       "      <td>86</td>\n",
       "    </tr>\n",
       "    <tr>\n",
       "      <th>1</th>\n",
       "      <td>choi</td>\n",
       "      <td>89</td>\n",
       "      <td>31</td>\n",
       "    </tr>\n",
       "    <tr>\n",
       "      <th>2</th>\n",
       "      <td>hwang</td>\n",
       "      <td>68</td>\n",
       "      <td>91</td>\n",
       "    </tr>\n",
       "    <tr>\n",
       "      <th>3</th>\n",
       "      <td>Lee</td>\n",
       "      <td>88</td>\n",
       "      <td>75</td>\n",
       "    </tr>\n",
       "  </tbody>\n",
       "</table>\n",
       "</div>"
      ],
      "text/plain": [
       "    name  eng_score  math_score\n",
       "0   song         50          86\n",
       "1   choi         89          31\n",
       "2  hwang         68          91\n",
       "3    Lee         88          75"
      ]
     },
     "execution_count": 65,
     "metadata": {},
     "output_type": "execute_result"
    }
   ],
   "source": [
    "df=pd.DataFrame(score_list,columns=['name','eng_score','math_score'])\n",
    "df"
   ]
  },
  {
   "cell_type": "markdown",
   "id": "included-conservative",
   "metadata": {},
   "source": [
    "### pandas 2"
   ]
  },
  {
   "cell_type": "code",
   "execution_count": 66,
   "id": "dominican-valuation",
   "metadata": {},
   "outputs": [],
   "source": [
    "import pandas as pd"
   ]
  },
  {
   "cell_type": "code",
   "execution_count": 78,
   "id": "fallen-meeting",
   "metadata": {},
   "outputs": [
    {
     "data": {
      "text/html": [
       "<div>\n",
       "<style scoped>\n",
       "    .dataframe tbody tr th:only-of-type {\n",
       "        vertical-align: middle;\n",
       "    }\n",
       "\n",
       "    .dataframe tbody tr th {\n",
       "        vertical-align: top;\n",
       "    }\n",
       "\n",
       "    .dataframe thead th {\n",
       "        text-align: right;\n",
       "    }\n",
       "</style>\n",
       "<table border=\"1\" class=\"dataframe\">\n",
       "  <thead>\n",
       "    <tr style=\"text-align: right;\">\n",
       "      <th></th>\n",
       "      <th>brand</th>\n",
       "      <th>model</th>\n",
       "      <th>ram</th>\n",
       "      <th>hd_type</th>\n",
       "      <th>hd_size</th>\n",
       "      <th>screen_size</th>\n",
       "      <th>price</th>\n",
       "      <th>processor_brand</th>\n",
       "      <th>processor_model</th>\n",
       "      <th>clock_speed</th>\n",
       "      <th>graphic_card_brand</th>\n",
       "      <th>graphic_card_size</th>\n",
       "      <th>os</th>\n",
       "      <th>weight</th>\n",
       "      <th>comments</th>\n",
       "    </tr>\n",
       "  </thead>\n",
       "  <tbody>\n",
       "    <tr>\n",
       "      <th>0</th>\n",
       "      <td>Dell</td>\n",
       "      <td>Inspiron 15-3567</td>\n",
       "      <td>4</td>\n",
       "      <td>hdd</td>\n",
       "      <td>1024</td>\n",
       "      <td>15.6</td>\n",
       "      <td>40000</td>\n",
       "      <td>intel</td>\n",
       "      <td>i5</td>\n",
       "      <td>2.5</td>\n",
       "      <td>intel</td>\n",
       "      <td>NaN</td>\n",
       "      <td>linux</td>\n",
       "      <td>2.50</td>\n",
       "      <td>NaN</td>\n",
       "    </tr>\n",
       "    <tr>\n",
       "      <th>1</th>\n",
       "      <td>Apple</td>\n",
       "      <td>MacBook Air</td>\n",
       "      <td>8</td>\n",
       "      <td>ssd</td>\n",
       "      <td>128</td>\n",
       "      <td>13.3</td>\n",
       "      <td>55499</td>\n",
       "      <td>intel</td>\n",
       "      <td>i5</td>\n",
       "      <td>1.8</td>\n",
       "      <td>intel</td>\n",
       "      <td>2.0</td>\n",
       "      <td>mac</td>\n",
       "      <td>1.35</td>\n",
       "      <td>NaN</td>\n",
       "    </tr>\n",
       "    <tr>\n",
       "      <th>2</th>\n",
       "      <td>Apple</td>\n",
       "      <td>MacBook Air</td>\n",
       "      <td>8</td>\n",
       "      <td>ssd</td>\n",
       "      <td>256</td>\n",
       "      <td>13.3</td>\n",
       "      <td>71500</td>\n",
       "      <td>intel</td>\n",
       "      <td>i5</td>\n",
       "      <td>1.8</td>\n",
       "      <td>intel</td>\n",
       "      <td>2.0</td>\n",
       "      <td>mac</td>\n",
       "      <td>1.35</td>\n",
       "      <td>NaN</td>\n",
       "    </tr>\n",
       "    <tr>\n",
       "      <th>3</th>\n",
       "      <td>Apple</td>\n",
       "      <td>MacBook Pro</td>\n",
       "      <td>8</td>\n",
       "      <td>ssd</td>\n",
       "      <td>128</td>\n",
       "      <td>13.3</td>\n",
       "      <td>96890</td>\n",
       "      <td>intel</td>\n",
       "      <td>i5</td>\n",
       "      <td>2.3</td>\n",
       "      <td>intel</td>\n",
       "      <td>2.0</td>\n",
       "      <td>mac</td>\n",
       "      <td>3.02</td>\n",
       "      <td>NaN</td>\n",
       "    </tr>\n",
       "    <tr>\n",
       "      <th>4</th>\n",
       "      <td>Apple</td>\n",
       "      <td>MacBook Pro</td>\n",
       "      <td>8</td>\n",
       "      <td>ssd</td>\n",
       "      <td>256</td>\n",
       "      <td>13.3</td>\n",
       "      <td>112666</td>\n",
       "      <td>intel</td>\n",
       "      <td>i5</td>\n",
       "      <td>2.3</td>\n",
       "      <td>intel</td>\n",
       "      <td>2.0</td>\n",
       "      <td>mac</td>\n",
       "      <td>3.02</td>\n",
       "      <td>NaN</td>\n",
       "    </tr>\n",
       "    <tr>\n",
       "      <th>...</th>\n",
       "      <td>...</td>\n",
       "      <td>...</td>\n",
       "      <td>...</td>\n",
       "      <td>...</td>\n",
       "      <td>...</td>\n",
       "      <td>...</td>\n",
       "      <td>...</td>\n",
       "      <td>...</td>\n",
       "      <td>...</td>\n",
       "      <td>...</td>\n",
       "      <td>...</td>\n",
       "      <td>...</td>\n",
       "      <td>...</td>\n",
       "      <td>...</td>\n",
       "      <td>...</td>\n",
       "    </tr>\n",
       "    <tr>\n",
       "      <th>162</th>\n",
       "      <td>Asus</td>\n",
       "      <td>A555LF</td>\n",
       "      <td>8</td>\n",
       "      <td>hdd</td>\n",
       "      <td>1024</td>\n",
       "      <td>15.6</td>\n",
       "      <td>39961</td>\n",
       "      <td>intel</td>\n",
       "      <td>i3 4th gen</td>\n",
       "      <td>1.7</td>\n",
       "      <td>nvidia</td>\n",
       "      <td>2.0</td>\n",
       "      <td>windows</td>\n",
       "      <td>2.30</td>\n",
       "      <td>NaN</td>\n",
       "    </tr>\n",
       "    <tr>\n",
       "      <th>163</th>\n",
       "      <td>Asus</td>\n",
       "      <td>X555LA-XX172D</td>\n",
       "      <td>4</td>\n",
       "      <td>hdd</td>\n",
       "      <td>500</td>\n",
       "      <td>15.6</td>\n",
       "      <td>28489</td>\n",
       "      <td>intel</td>\n",
       "      <td>i3 4th gen</td>\n",
       "      <td>1.9</td>\n",
       "      <td>intel</td>\n",
       "      <td>NaN</td>\n",
       "      <td>linux</td>\n",
       "      <td>2.30</td>\n",
       "      <td>NaN</td>\n",
       "    </tr>\n",
       "    <tr>\n",
       "      <th>164</th>\n",
       "      <td>Asus</td>\n",
       "      <td>X554LD</td>\n",
       "      <td>2</td>\n",
       "      <td>hdd</td>\n",
       "      <td>500</td>\n",
       "      <td>15.6</td>\n",
       "      <td>29199</td>\n",
       "      <td>intel</td>\n",
       "      <td>i3 4th gen</td>\n",
       "      <td>1.9</td>\n",
       "      <td>intel</td>\n",
       "      <td>1.0</td>\n",
       "      <td>linux</td>\n",
       "      <td>2.30</td>\n",
       "      <td>NaN</td>\n",
       "    </tr>\n",
       "    <tr>\n",
       "      <th>165</th>\n",
       "      <td>Asus</td>\n",
       "      <td>X550LAV-XX771D</td>\n",
       "      <td>2</td>\n",
       "      <td>hdd</td>\n",
       "      <td>500</td>\n",
       "      <td>15.6</td>\n",
       "      <td>29990</td>\n",
       "      <td>intel</td>\n",
       "      <td>i3 4th gen</td>\n",
       "      <td>1.7</td>\n",
       "      <td>intel</td>\n",
       "      <td>NaN</td>\n",
       "      <td>linux</td>\n",
       "      <td>2.50</td>\n",
       "      <td>NaN</td>\n",
       "    </tr>\n",
       "    <tr>\n",
       "      <th>166</th>\n",
       "      <td>Asus</td>\n",
       "      <td>X540LA-XX538T</td>\n",
       "      <td>4</td>\n",
       "      <td>hdd</td>\n",
       "      <td>1024</td>\n",
       "      <td>15.6</td>\n",
       "      <td>30899</td>\n",
       "      <td>intel</td>\n",
       "      <td>i3 5th gen</td>\n",
       "      <td>2.0</td>\n",
       "      <td>intel</td>\n",
       "      <td>NaN</td>\n",
       "      <td>windows</td>\n",
       "      <td>2.30</td>\n",
       "      <td>NaN</td>\n",
       "    </tr>\n",
       "  </tbody>\n",
       "</table>\n",
       "<p>167 rows × 15 columns</p>\n",
       "</div>"
      ],
      "text/plain": [
       "     brand             model  ram hd_type  hd_size  screen_size   price  \\\n",
       "0     Dell  Inspiron 15-3567    4     hdd     1024         15.6   40000   \n",
       "1    Apple       MacBook Air    8     ssd      128         13.3   55499   \n",
       "2    Apple       MacBook Air    8     ssd      256         13.3   71500   \n",
       "3    Apple       MacBook Pro    8     ssd      128         13.3   96890   \n",
       "4    Apple       MacBook Pro    8     ssd      256         13.3  112666   \n",
       "..     ...               ...  ...     ...      ...          ...     ...   \n",
       "162   Asus            A555LF    8     hdd     1024         15.6   39961   \n",
       "163   Asus     X555LA-XX172D    4     hdd      500         15.6   28489   \n",
       "164   Asus            X554LD    2     hdd      500         15.6   29199   \n",
       "165   Asus    X550LAV-XX771D    2     hdd      500         15.6   29990   \n",
       "166   Asus     X540LA-XX538T    4     hdd     1024         15.6   30899   \n",
       "\n",
       "    processor_brand processor_model  clock_speed graphic_card_brand  \\\n",
       "0             intel              i5          2.5              intel   \n",
       "1             intel              i5          1.8              intel   \n",
       "2             intel              i5          1.8              intel   \n",
       "3             intel              i5          2.3              intel   \n",
       "4             intel              i5          2.3              intel   \n",
       "..              ...             ...          ...                ...   \n",
       "162           intel      i3 4th gen          1.7             nvidia   \n",
       "163           intel      i3 4th gen          1.9              intel   \n",
       "164           intel      i3 4th gen          1.9              intel   \n",
       "165           intel      i3 4th gen          1.7              intel   \n",
       "166           intel      i3 5th gen          2.0              intel   \n",
       "\n",
       "     graphic_card_size       os  weight comments  \n",
       "0                  NaN    linux    2.50      NaN  \n",
       "1                  2.0      mac    1.35      NaN  \n",
       "2                  2.0      mac    1.35      NaN  \n",
       "3                  2.0      mac    3.02      NaN  \n",
       "4                  2.0      mac    3.02      NaN  \n",
       "..                 ...      ...     ...      ...  \n",
       "162                2.0  windows    2.30      NaN  \n",
       "163                NaN    linux    2.30      NaN  \n",
       "164                1.0    linux    2.30      NaN  \n",
       "165                NaN    linux    2.50      NaN  \n",
       "166                NaN  windows    2.30      NaN  \n",
       "\n",
       "[167 rows x 15 columns]"
      ]
     },
     "execution_count": 78,
     "metadata": {},
     "output_type": "execute_result"
    }
   ],
   "source": [
    "laptops_df=pd.read_csv('laptops.csv')\n",
    "laptops_df"
   ]
  },
  {
   "cell_type": "code",
   "execution_count": 77,
   "id": "flexible-merchandise",
   "metadata": {},
   "outputs": [
    {
     "data": {
      "text/html": [
       "<div>\n",
       "<style scoped>\n",
       "    .dataframe tbody tr th:only-of-type {\n",
       "        vertical-align: middle;\n",
       "    }\n",
       "\n",
       "    .dataframe tbody tr th {\n",
       "        vertical-align: top;\n",
       "    }\n",
       "\n",
       "    .dataframe thead th {\n",
       "        text-align: right;\n",
       "    }\n",
       "</style>\n",
       "<table border=\"1\" class=\"dataframe\">\n",
       "  <thead>\n",
       "    <tr style=\"text-align: right;\">\n",
       "      <th></th>\n",
       "      <th>출시일</th>\n",
       "      <th>디스플레이</th>\n",
       "      <th>메모리</th>\n",
       "      <th>출시 버전</th>\n",
       "      <th>Face ID</th>\n",
       "    </tr>\n",
       "  </thead>\n",
       "  <tbody>\n",
       "    <tr>\n",
       "      <th>iPhone 7</th>\n",
       "      <td>2016-09-16</td>\n",
       "      <td>4.7</td>\n",
       "      <td>2GB</td>\n",
       "      <td>iOS 10.0</td>\n",
       "      <td>No</td>\n",
       "    </tr>\n",
       "    <tr>\n",
       "      <th>iPhone 7 Plus</th>\n",
       "      <td>2016-09-16</td>\n",
       "      <td>5.5</td>\n",
       "      <td>3GB</td>\n",
       "      <td>iOS 10.0</td>\n",
       "      <td>No</td>\n",
       "    </tr>\n",
       "    <tr>\n",
       "      <th>iPhone 8</th>\n",
       "      <td>2017-09-22</td>\n",
       "      <td>4.7</td>\n",
       "      <td>2GB</td>\n",
       "      <td>iOS 11.0</td>\n",
       "      <td>No</td>\n",
       "    </tr>\n",
       "    <tr>\n",
       "      <th>iPhone 8 Plus</th>\n",
       "      <td>2017-09-22</td>\n",
       "      <td>5.5</td>\n",
       "      <td>3GB</td>\n",
       "      <td>iOS 11.0</td>\n",
       "      <td>No</td>\n",
       "    </tr>\n",
       "    <tr>\n",
       "      <th>iPhone X</th>\n",
       "      <td>2017-11-03</td>\n",
       "      <td>5.8</td>\n",
       "      <td>3GB</td>\n",
       "      <td>iOS 11.1</td>\n",
       "      <td>Yes</td>\n",
       "    </tr>\n",
       "    <tr>\n",
       "      <th>iPhone XS</th>\n",
       "      <td>2018-09-21</td>\n",
       "      <td>5.8</td>\n",
       "      <td>4GB</td>\n",
       "      <td>iOS 12.0</td>\n",
       "      <td>Yes</td>\n",
       "    </tr>\n",
       "    <tr>\n",
       "      <th>iPhone XS Max</th>\n",
       "      <td>2018-09-21</td>\n",
       "      <td>6.5</td>\n",
       "      <td>4GB</td>\n",
       "      <td>iOS 12.0</td>\n",
       "      <td>Yes</td>\n",
       "    </tr>\n",
       "  </tbody>\n",
       "</table>\n",
       "</div>"
      ],
      "text/plain": [
       "                      출시일  디스플레이  메모리     출시 버전 Face ID\n",
       "iPhone 7       2016-09-16    4.7  2GB  iOS 10.0      No\n",
       "iPhone 7 Plus  2016-09-16    5.5  3GB  iOS 10.0      No\n",
       "iPhone 8       2017-09-22    4.7  2GB  iOS 11.0      No\n",
       "iPhone 8 Plus  2017-09-22    5.5  3GB  iOS 11.0      No\n",
       "iPhone X       2017-11-03    5.8  3GB  iOS 11.1     Yes\n",
       "iPhone XS      2018-09-21    5.8  4GB  iOS 12.0     Yes\n",
       "iPhone XS Max  2018-09-21    6.5  4GB  iOS 12.0     Yes"
      ]
     },
     "execution_count": 77,
     "metadata": {},
     "output_type": "execute_result"
    }
   ],
   "source": [
    "iphone_df=pd.read_csv('iphone.csv',index_col=0)\n",
    "iphone_df"
   ]
  },
  {
   "cell_type": "code",
   "execution_count": null,
   "id": "premier-execution",
   "metadata": {},
   "outputs": [],
   "source": []
  }
 ],
 "metadata": {
  "kernelspec": {
   "display_name": "Python 3",
   "language": "python",
   "name": "python3"
  },
  "language_info": {
   "codemirror_mode": {
    "name": "ipython",
    "version": 3
   },
   "file_extension": ".py",
   "mimetype": "text/x-python",
   "name": "python",
   "nbconvert_exporter": "python",
   "pygments_lexer": "ipython3",
   "version": "3.8.8"
  }
 },
 "nbformat": 4,
 "nbformat_minor": 5
}
